{
 "cells": [
  {
   "cell_type": "markdown",
   "metadata": {
    "application/vnd.databricks.v1+cell": {
     "cellMetadata": {},
     "inputWidgets": {},
     "nuid": "8936321d-702e-4d3c-87d0-f6712d2a9577",
     "showTitle": false,
     "tableResultSettingsMap": {},
     "title": ""
    }
   },
   "source": [
    "##First reset the tables to follow our Deltalake example and the timetravel example"
   ]
  },
  {
   "cell_type": "code",
   "execution_count": 0,
   "metadata": {
    "application/vnd.databricks.v1+cell": {
     "cellMetadata": {
      "byteLimit": 2048000,
      "rowLimit": 10000
     },
     "inputWidgets": {},
     "nuid": "c20bae16-2823-4aed-9bb8-fcba0845a8cd",
     "showTitle": false,
     "tableResultSettingsMap": {},
     "title": ""
    }
   },
   "outputs": [],
   "source": [
    "\n",
    "##ls \"/Repos/stig0509@hotmail.com/Databricks/Certification Playground/Deltalake.ipynb\"\n",
    "\n",
    "\n",
    "dbutils.notebook.run(\n",
    "    \"/Workspace/Users/stig0509@hotmail.com/Databricks/Certification Playground/Deltalake\", \n",
    "    60\n",
    ")\n",
    "\n"
   ]
  },
  {
   "cell_type": "markdown",
   "metadata": {
    "application/vnd.databricks.v1+cell": {
     "cellMetadata": {},
     "inputWidgets": {},
     "nuid": "c8afe5b1-1cea-44d9-9c2f-e1d79eda461a",
     "showTitle": false,
     "tableResultSettingsMap": {},
     "title": ""
    }
   },
   "source": [
    "##First create a new temp table\n",
    "The idea is that we insert new rows into the temp table and then try to merge, replace an so forth on the main table.\n",
    "Remember we can always reset with The deltalake script"
   ]
  },
  {
   "cell_type": "code",
   "execution_count": 0,
   "metadata": {
    "application/vnd.databricks.v1+cell": {
     "cellMetadata": {
      "byteLimit": 2048000,
      "implicitDf": true,
      "rowLimit": 10000
     },
     "inputWidgets": {},
     "nuid": "20991161-1524-483e-9639-134de47718df",
     "showTitle": false,
     "tableResultSettingsMap": {},
     "title": ""
    }
   },
   "outputs": [],
   "source": [
    "%sql\n",
    "use catalog playground;\n",
    "\n",
    "DROP TABLE IF EXISTS todos.temp_source_tasks;\n",
    "CREATE TABLE todos.temp_source_tasks AS -- Create or replace keeps the history\n",
    "SELECT * FROM todos.tasks WHERE 1=0;\n",
    "\n",
    "DROP TABLE IF EXISTS todos.temp_target_tasks; \n",
    "CREATE TABLE todos.temp_target_tasks CLONE todos.tasks;\n",
    "TRUNCATE TABLE todos.temp_target_tasks;\n",
    "\n",
    "describe history todos.temp_target_tasks;\n"
   ]
  },
  {
   "cell_type": "code",
   "execution_count": 0,
   "metadata": {
    "application/vnd.databricks.v1+cell": {
     "cellMetadata": {
      "byteLimit": 2048000,
      "implicitDf": true,
      "rowLimit": 10000
     },
     "inputWidgets": {},
     "nuid": "d4b5d250-28c0-4f88-bc73-18634b3f9d7e",
     "showTitle": false,
     "tableResultSettingsMap": {},
     "title": ""
    }
   },
   "outputs": [],
   "source": [
    "%sql\n",
    "INSERT INTO todos.temp_source_tasks (task_id, task_name, description, assigned_to, due_date)\n",
    "VALUES (\n",
    "  101, \n",
    "  'Design new character skin', \n",
    "  'Create concept art and assets for the upcoming seasonal character skin release.', \n",
    "  'alex.jones', \n",
    "  '2025-11-15'\n",
    ");"
   ]
  },
  {
   "cell_type": "markdown",
   "metadata": {
    "application/vnd.databricks.v1+cell": {
     "cellMetadata": {},
     "inputWidgets": {},
     "nuid": "e41dfd49-f04a-4454-90b7-86c0472fa27b",
     "showTitle": false,
     "tableResultSettingsMap": {},
     "title": ""
    }
   },
   "source": [
    "##Test insert overwrite\n",
    "Overwrite truncates the table and inserts the new rows from the source table.<br>\n",
    "However if there is a column with always identity this has to be excluded from the select statement."
   ]
  },
  {
   "cell_type": "code",
   "execution_count": 0,
   "metadata": {
    "application/vnd.databricks.v1+cell": {
     "cellMetadata": {
      "byteLimit": 2048000,
      "implicitDf": true,
      "rowLimit": 10000
     },
     "inputWidgets": {},
     "nuid": "20792502-3a01-4306-820c-7dc4d5783206",
     "showTitle": false,
     "tableResultSettingsMap": {},
     "title": ""
    }
   },
   "outputs": [],
   "source": [
    "%sql\n",
    "INSERT OVERWRITE todos.temp_target_tasks (\n",
    "    task_name,\n",
    "    description,\n",
    "    assigned_to,\n",
    "    due_date\n",
    ")\n",
    "SELECT\n",
    "    task_name,\n",
    "    description,\n",
    "    assigned_to,\n",
    "    due_date\n",
    "FROM\n",
    "    todos.temp_source_tasks;\n",
    "\n",
    "SELECT * FROM todos.temp_target_tasks;"
   ]
  },
  {
   "cell_type": "code",
   "execution_count": 0,
   "metadata": {
    "application/vnd.databricks.v1+cell": {
     "cellMetadata": {
      "byteLimit": 2048000,
      "implicitDf": true,
      "rowLimit": 10000
     },
     "inputWidgets": {},
     "nuid": "7f79ae10-85ea-4997-8cfe-9a8c2f6abb6c",
     "showTitle": false,
     "tableResultSettingsMap": {},
     "title": ""
    }
   },
   "outputs": [],
   "source": [
    "%sql\n",
    "describe history todos.tasks;"
   ]
  },
  {
   "cell_type": "markdown",
   "metadata": {
    "application/vnd.databricks.v1+cell": {
     "cellMetadata": {},
     "inputWidgets": {},
     "nuid": "d42485d5-b3dc-4554-ab05-7fa4b0533837",
     "showTitle": false,
     "tableResultSettingsMap": {},
     "title": ""
    }
   },
   "source": [
    "## Recreate the temp tables for next test"
   ]
  },
  {
   "cell_type": "code",
   "execution_count": 0,
   "metadata": {
    "application/vnd.databricks.v1+cell": {
     "cellMetadata": {
      "byteLimit": 2048000,
      "implicitDf": true,
      "rowLimit": 10000
     },
     "inputWidgets": {},
     "nuid": "9d1944a5-b05e-46e8-9b84-a19f9a12deea",
     "showTitle": false,
     "tableResultSettingsMap": {},
     "title": ""
    }
   },
   "outputs": [],
   "source": [
    "%sql\n",
    "use catalog playground;\n",
    "\n",
    "DROP TABLE IF EXISTS todos.temp_source_tasks;\n",
    "CREATE TABLE todos.temp_source_tasks AS -- Create or replace keeps the history\n",
    "SELECT * FROM todos.tasks WHERE 1=0;\n",
    "\n",
    "DROP TABLE IF EXISTS todos.temp_target_tasks; \n",
    "CREATE TABLE todos.temp_target_tasks CLONE todos.tasks;\n",
    "\n",
    "\n",
    "INSERT INTO todos.temp_source_tasks (task_id, task_name, description, assigned_to, due_date)\n",
    "VALUES (\n",
    "  101, \n",
    "  'Design new character skin My New Row', \n",
    "  'Create concept art and assets for the upcoming seasonal character skin release.', \n",
    "  'alex.jones', \n",
    "  '2025-11-15'\n",
    ");\n",
    "\n",
    "\n",
    "INSERT INTO todos.temp_source_tasks (task_id,task_name, description, assigned_to, due_date) VALUES\n",
    "(3,'Write Story Script', 'Draft the narrative and dialogue for the game. My Updated Row', 'Charlie', '2025-11-15')"
   ]
  },
  {
   "cell_type": "code",
   "execution_count": 0,
   "metadata": {
    "application/vnd.databricks.v1+cell": {
     "cellMetadata": {
      "byteLimit": 2048000,
      "implicitDf": true,
      "rowLimit": 10000
     },
     "inputWidgets": {},
     "nuid": "8c91829c-0b7f-44c5-92e6-4685627faca3",
     "showTitle": false,
     "tableResultSettingsMap": {},
     "title": ""
    }
   },
   "outputs": [],
   "source": [
    "%sql\n",
    "\n",
    "SELECT * FROM todos.tasks"
   ]
  },
  {
   "cell_type": "markdown",
   "metadata": {
    "application/vnd.databricks.v1+cell": {
     "cellMetadata": {},
     "inputWidgets": {},
     "nuid": "f44ad952-91e4-48b8-b627-d7e1ec0d7102",
     "showTitle": false,
     "tableResultSettingsMap": {},
     "title": ""
    }
   },
   "source": [
    "## Test merge"
   ]
  },
  {
   "cell_type": "code",
   "execution_count": 0,
   "metadata": {
    "application/vnd.databricks.v1+cell": {
     "cellMetadata": {
      "byteLimit": 2048000,
      "implicitDf": true,
      "rowLimit": 10000
     },
     "inputWidgets": {},
     "nuid": "3e96b918-68d4-4f0f-ba8b-79b5aaf8a04f",
     "showTitle": false,
     "tableResultSettingsMap": {},
     "title": ""
    }
   },
   "outputs": [],
   "source": [
    "%sql\n",
    "use catalog playground;\n",
    "\n",
    "MERGE INTO todos.temp_target_tasks AS target\n",
    "USING todos.temp_source_tasks AS source\n",
    "ON target.task_id = source.task_id\n",
    "WHEN MATCHED THEN\n",
    "  UPDATE SET\n",
    "    target.task_name = source.task_name,\n",
    "    target.description = source.description,\n",
    "    target.assigned_to = source.assigned_to,\n",
    "    target.due_date = source.due_date\n",
    "WHEN NOT MATCHED THEN\n",
    "  INSERT (task_name, description, assigned_to, due_date)\n",
    "  VALUES (source.task_name, source.description, source.assigned_to, source.due_date);"
   ]
  },
  {
   "cell_type": "code",
   "execution_count": 0,
   "metadata": {
    "application/vnd.databricks.v1+cell": {
     "cellMetadata": {
      "byteLimit": 2048000,
      "implicitDf": true,
      "rowLimit": 10000
     },
     "inputWidgets": {},
     "nuid": "63c3e1ec-aa98-49e6-af1f-3a598b2c0f0c",
     "showTitle": false,
     "tableResultSettingsMap": {
      "0": {
       "dataGridStateBlob": "{\"version\":1,\"tableState\":{\"columnPinning\":{\"left\":[\"#row_number#\"],\"right\":[]},\"columnSizing\":{\"description\":508,\"task_name\":285},\"columnVisibility\":{}},\"settings\":{\"columns\":{}},\"syncTimestamp\":1761745533156}",
       "filterBlob": null,
       "queryPlanFiltersBlob": null,
       "tableResultIndex": 0
      }
     },
     "title": ""
    }
   },
   "outputs": [],
   "source": [
    "%sql\n",
    "select * from todos.temp_target_tasks\n",
    "order by task_id;"
   ]
  }
 ],
 "metadata": {
  "application/vnd.databricks.v1+notebook": {
   "computePreferences": null,
   "dashboards": [],
   "environmentMetadata": {
    "base_environment": "",
    "environment_version": "4"
   },
   "inputWidgetPreferences": null,
   "language": "python",
   "notebookMetadata": {
    "mostRecentlyExecutedCommandWithImplicitDF": {
     "commandId": 8690973339164720,
     "dataframes": [
      "_sqldf"
     ]
    },
    "pythonIndentUnit": 4
   },
   "notebookName": "Write and Load Commands",
   "widgets": {}
  },
  "language_info": {
   "name": "python"
  }
 },
 "nbformat": 4,
 "nbformat_minor": 0
}
