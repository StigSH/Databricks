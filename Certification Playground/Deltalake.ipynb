{
 "cells": [
  {
   "cell_type": "markdown",
   "metadata": {
    "application/vnd.databricks.v1+cell": {
     "cellMetadata": {
      "byteLimit": 2048000,
      "rowLimit": 10000
     },
     "inputWidgets": {},
     "nuid": "29f2c8a9-2a0c-403d-81ee-6f3b1868eb49",
     "showTitle": false,
     "tableResultSettingsMap": {},
     "title": ""
    }
   },
   "source": [
    "\n",
    "##This is a playground for deltalake"
   ]
  },
  {
   "cell_type": "code",
   "execution_count": 0,
   "metadata": {
    "application/vnd.databricks.v1+cell": {
     "cellMetadata": {
      "byteLimit": 2048000,
      "implicitDf": true,
      "rowLimit": 10000
     },
     "inputWidgets": {},
     "nuid": "302b1e4f-890f-4da1-b4d8-0d686df1dc38",
     "showTitle": false,
     "tableResultSettingsMap": {},
     "title": ""
    }
   },
   "outputs": [],
   "source": [
    "%sql\n",
    "CREATE CATALOG IF NOT EXISTS playground"
   ]
  },
  {
   "cell_type": "markdown",
   "metadata": {
    "application/vnd.databricks.v1+cell": {
     "cellMetadata": {
      "byteLimit": 2048000,
      "rowLimit": 10000
     },
     "inputWidgets": {},
     "nuid": "8678b9c1-c38f-4c8b-a43b-e6f866ed983a",
     "showTitle": false,
     "tableResultSettingsMap": {},
     "title": ""
    }
   },
   "source": [
    "##First we create a task table and a task status table"
   ]
  },
  {
   "cell_type": "code",
   "execution_count": 0,
   "metadata": {
    "application/vnd.databricks.v1+cell": {
     "cellMetadata": {
      "byteLimit": 2048000,
      "implicitDf": true,
      "rowLimit": 10000
     },
     "inputWidgets": {},
     "nuid": "e5f57bcd-609c-4b9c-8b2a-f9390a821092",
     "showTitle": false,
     "tableResultSettingsMap": {},
     "title": ""
    }
   },
   "outputs": [],
   "source": [
    "%sql\n",
    "USE CATALOG playground;\n",
    "\n",
    "drop table if exists todos.tasks;\n",
    "CREATE SCHEMA IF NOT EXISTS todos;\n",
    "CREATE TABLE IF NOT EXISTS todos.tasks (\n",
    "  task_id BIGINT GENERATED ALWAYS AS IDENTITY PRIMARY KEY,\n",
    "  task_name STRING,\n",
    "  description STRING,\n",
    "  assigned_to STRING,\n",
    "  due_date DATE\n",
    ");\n",
    "\n",
    "drop table if exists todos.status;\n",
    "CREATE TABLE IF NOT EXISTS todos.status (\n",
    "  status_id BIGINT GENERATED ALWAYS AS IDENTITY PRIMARY KEY,\n",
    "  status_name STRING\n",
    ");\n",
    "\n",
    "drop table if exists todos.task_status;\n",
    "CREATE TABLE IF NOT EXISTS todos.task_status (\n",
    "  status_id BIGINT REFERENCES todos.status(status_id),\n",
    "  task_id BIGINT REFERENCES todos.tasks(task_id),\n",
    "  change_time TIMESTAMP \n",
    ");\n",
    "ALTER TABLE todos.task_status SET TBLPROPERTIES('delta.feature.allowColumnDefaults' = 'supported');\n",
    "ALTER TABLE todos.task_status ALTER COLUMN change_time SET DEFAULT current_timestamp();\n",
    "\n",
    "INSERT INTO todos.tasks (task_name, description, assigned_to, due_date) VALUES\n",
    "('Design Main Character', 'Create concept art and 3D model for the main character.', 'Alice', '2025-11-10'),\n",
    "('Implement Physics Engine', 'Develop core physics simulation for gameplay.', 'Bob', '2025-11-20'),\n",
    "('Write Story Script', 'Draft the narrative and dialogue for the game.', 'Charlie', '2025-11-15'),\n",
    "('Create Soundtrack', 'Compose and produce background music.', 'Dana', '2025-11-25'),\n",
    "('Build Level 1', 'Design and implement the first playable level.', 'Eve', '2025-11-18');\n",
    "\n",
    "INSERT INTO todos.status (status_name) VALUES\n",
    "('Not Started'),\n",
    "('In Progress'),\n",
    "('Completed'),\n",
    "('Blocked'),\n",
    "('Review');\n",
    "\n",
    "-- For todos.task_status, you need to use the correct status_id and task_id values.\n",
    "-- Example below assumes status_id=1 for 'Not Started' and task_id values from 1 to 5.\n",
    "INSERT INTO todos.task_status (status_id, task_id, change_time) VALUES\n",
    "(1, 1, current_timestamp()),\n",
    "(1, 2, current_timestamp()),\n",
    "(1, 3, current_timestamp()),\n",
    "(1, 4, current_timestamp()),\n",
    "(1, 5, current_timestamp());\n"
   ]
  },
  {
   "cell_type": "code",
   "execution_count": 0,
   "metadata": {
    "application/vnd.databricks.v1+cell": {
     "cellMetadata": {
      "byteLimit": 2048000,
      "implicitDf": true,
      "rowLimit": 10000
     },
     "inputWidgets": {},
     "nuid": "71de1a8d-41c2-412a-8870-ee866bebdf78",
     "showTitle": false,
     "tableResultSettingsMap": {},
     "title": ""
    }
   },
   "outputs": [],
   "source": [
    "%sql\n",
    "-- SHOW TABLES IN todos;\n"
   ]
  }
 ],
 "metadata": {
  "application/vnd.databricks.v1+notebook": {
   "computePreferences": null,
   "dashboards": [],
   "environmentMetadata": {
    "base_environment": "",
    "environment_version": "4"
   },
   "inputWidgetPreferences": null,
   "language": "python",
   "notebookMetadata": {
    "mostRecentlyExecutedCommandWithImplicitDF": {
     "commandId": 8658676788971127,
     "dataframes": [
      "_sqldf"
     ]
    },
    "pythonIndentUnit": 4
   },
   "notebookName": "Deltalake",
   "widgets": {}
  },
  "language_info": {
   "name": "python"
  }
 },
 "nbformat": 4,
 "nbformat_minor": 0
}
