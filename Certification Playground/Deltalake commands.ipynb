{
 "cells": [
  {
   "cell_type": "markdown",
   "metadata": {
    "application/vnd.databricks.v1+cell": {
     "cellMetadata": {},
     "inputWidgets": {},
     "nuid": "4ff70b20-ae93-4646-815c-402f00f05cab",
     "showTitle": false,
     "tableResultSettingsMap": {},
     "title": ""
    }
   },
   "source": [
    "#Deltalake commands overview"
   ]
  },
  {
   "cell_type": "markdown",
   "metadata": {
    "application/vnd.databricks.v1+cell": {
     "cellMetadata": {},
     "inputWidgets": {},
     "nuid": "4044ce23-945a-4098-a4d0-8d0acb0aaf28",
     "showTitle": false,
     "tableResultSettingsMap": {},
     "title": ""
    }
   },
   "source": [
    "##Prepare environment"
   ]
  },
  {
   "cell_type": "code",
   "execution_count": 0,
   "metadata": {
    "application/vnd.databricks.v1+cell": {
     "cellMetadata": {
      "byteLimit": 2048000,
      "rowLimit": 10000
     },
     "inputWidgets": {},
     "nuid": "6dca85a8-4112-42dd-b8aa-e1c4cf6b3d3b",
     "showTitle": true,
     "tableResultSettingsMap": {},
     "title": "Prep sampledata"
    }
   },
   "outputs": [],
   "source": [
    "\n",
    "##ls \"/Repos/stig0509@hotmail.com/Databricks/Certification Playground/Deltalake.ipynb\"\n",
    "\n",
    "\n",
    "dbutils.notebook.run(\n",
    "    \"/Workspace/Users/stig0509@hotmail.com/Databricks/Certification Playground/Deltalake\", \n",
    "    60\n",
    ")\n",
    "\n"
   ]
  },
  {
   "cell_type": "markdown",
   "metadata": {
    "application/vnd.databricks.v1+cell": {
     "cellMetadata": {},
     "inputWidgets": {},
     "nuid": "21c07e09-2b54-4e85-b015-d6051a6fa962",
     "showTitle": false,
     "tableResultSettingsMap": {},
     "title": ""
    }
   },
   "source": [
    "**CACHE SELECT**: A SQL command that caches the result of a SELECT query, creating a temporary view for faster future access. Syntax:  \n",
    "  `CACHE TABLE table_name [OPTIONS ('storageLevel' = value)] AS SELECT ...`\n",
    "\n",
    "**CONVERT TO DELTA**: A SQL command that converts an existing Parquet or Iceberg table or directory to Delta Lake format. Syntax:  \n",
    "  `CONVERT TO DELTA database_name.table_name;`  \n",
    "  or  \n",
    "  `CONVERT TO DELTA parquet.`<path_to_parquet_data>`;`\n",
    "\n",
    "**DESCRIBE HISTORY**: A SQL command that returns the version history of a Delta table, including metadata such as operation type, user, timestamp, and operation parameters.  \n",
    "Syntax:  \n",
    "  `DESCRIBE HISTORY table_name;`\n",
    "\n",
    "**FSCK REPAIR TABLE**: A SQL command (also known as `MSCK REPAIR TABLE`) that recovers and registers partitions for partitioned tables in the Hive metastore. It is used when partitions exist in the table's storage location but are not registered in the metastore, typically after external data loads or manual file operations.  \n",
    "Syntax:  \n",
    "  `MSCK REPAIR TABLE table_name [ADD|DROP|SYNC PARTITIONS];`\n",
    "\n",
    "**GENERATE**: A SQL command that generates manifest files or other specified modes for a Delta table. Manifest files enable external systems (such as Presto and Athena) to read Delta tables.  \n",
    "Syntax:  \n",
    "  `GENERATE mode FOR TABLE table_name`\n",
    "\n",
    "**OPTIMIZE**: A SQL command that compacts small files in a Delta table into larger files for improved query performance and reduced file management overhead. It can also be used with ZORDER to optimize data layout for faster data skipping.  \n",
    "Syntax:  \n",
    "  `OPTIMIZE table_name [WHERE predicate] [ZORDER BY (col1, col2, ...)]`\n",
    "\n",
    "**REORG TABLE**: A SQL command that reorganizes the storage layout of a table to improve performance or reclaim space. It typically compacts data files, merges small files, and optimizes the physical structure of the table without changing its logical contents.  \n",
    "Syntax:  \n",
    "  `REORG TABLE table_name;`\n",
    "\n",
    "**RESTORE**: A SQL command that restores a Delta table to a previous version or timestamp, undoing changes made after that point. This is useful for recovering data after accidental modifications or deletions.  \n",
    "Syntax:  \n",
    "  `RESTORE TABLE table_name TO VERSION AS OF version_number;`  \n",
    "  or  \n",
    "  `RESTORE TABLE table_name TO TIMESTAMP AS OF 'yyyy-mm-dd HH:MM:SS';`\n",
    "\n",
    "**VACUUM**: A SQL command that removes unused data files from a Delta table or directory, freeing up storage space. It deletes files that are no longer referenced by the table’s transaction log and are older than a specified retention period (default is 7 days).  \n",
    "Syntax:  \n",
    "  `VACUUM table_name [RETAIN num HOURS];`\n"
   ]
  },
  {
   "cell_type": "markdown",
   "metadata": {
    "application/vnd.databricks.v1+cell": {
     "cellMetadata": {},
     "inputWidgets": {},
     "nuid": "38e64ba1-611a-444f-8895-d43431cd5a0f",
     "showTitle": false,
     "tableResultSettingsMap": {},
     "title": ""
    }
   },
   "source": [
    "# ## Cache select\n",
    "\n",
    "![](/Workspace/Users/stig0509@hotmail.com/Databricks/Certification Playground/Import Pictures/Cache.png)"
   ]
  },
  {
   "cell_type": "code",
   "execution_count": 0,
   "metadata": {
    "application/vnd.databricks.v1+cell": {
     "cellMetadata": {
      "byteLimit": 2048000,
      "implicitDf": true,
      "rowLimit": 10000
     },
     "inputWidgets": {},
     "nuid": "fa1a3a0c-491d-4a8b-857b-5f7c19b5c98e",
     "showTitle": true,
     "tableResultSettingsMap": {},
     "title": "Regular Select Performance"
    }
   },
   "outputs": [],
   "source": [
    "%sql\n",
    "use catalog playground;\n",
    "select * from todos.tasks;"
   ]
  },
  {
   "cell_type": "code",
   "execution_count": 0,
   "metadata": {
    "application/vnd.databricks.v1+cell": {
     "cellMetadata": {
      "byteLimit": 2048000,
      "implicitDf": true,
      "rowLimit": 10000
     },
     "inputWidgets": {},
     "nuid": "4f4ec18b-2c8b-45cf-b0e0-48adde0eea87",
     "showTitle": true,
     "tableResultSettingsMap": {},
     "title": "CACHE SELECT"
    }
   },
   "outputs": [],
   "source": [
    "%sql\n",
    "use catalog playground;\n",
    "\n",
    "CACHE TABLE cached_tasks AS\n",
    "select * from todos.tasks;\n"
   ]
  },
  {
   "cell_type": "code",
   "execution_count": 0,
   "metadata": {
    "application/vnd.databricks.v1+cell": {
     "cellMetadata": {
      "byteLimit": 2048000,
      "implicitDf": true,
      "rowLimit": 10000
     },
     "inputWidgets": {},
     "nuid": "18a75046-10c2-4a01-96f2-f3944bf8b4d8",
     "showTitle": true,
     "tableResultSettingsMap": {},
     "title": "select from cache"
    }
   },
   "outputs": [],
   "source": [
    "%sql\n",
    "select * from cached_tasks;"
   ]
  },
  {
   "cell_type": "markdown",
   "metadata": {
    "application/vnd.databricks.v1+cell": {
     "cellMetadata": {},
     "inputWidgets": {},
     "nuid": "3fdd844c-c722-41d5-b477-742409d823c1",
     "showTitle": false,
     "tableResultSettingsMap": {},
     "title": ""
    }
   },
   "source": [
    "##Convert to delta\n",
    "\n",
    "![](/Workspace/Users/stig0509@hotmail.com/Databricks/Certification Playground/Import Pictures/Convert to delta.png)\n"
   ]
  },
  {
   "cell_type": "code",
   "execution_count": 0,
   "metadata": {
    "application/vnd.databricks.v1+cell": {
     "cellMetadata": {},
     "inputWidgets": {},
     "nuid": "5a101a6d-f075-4ebd-9b77-cfc30c0eed67",
     "showTitle": true,
     "tableResultSettingsMap": {},
     "title": "CONVERT TO DELTA"
    }
   },
   "outputs": [],
   "source": []
  },
  {
   "cell_type": "markdown",
   "metadata": {
    "application/vnd.databricks.v1+cell": {
     "cellMetadata": {},
     "inputWidgets": {},
     "nuid": "64e27a9c-df96-4be5-93c1-de344a40e4aa",
     "showTitle": false,
     "tableResultSettingsMap": {},
     "title": ""
    }
   },
   "source": [
    "## Describe History\n",
    "Reference the timetravelexample\n",
    "\n",
    "![](/Workspace/Users/stig0509@hotmail.com/Databricks/Certification Playground/Import Pictures/describe history.png)\n"
   ]
  },
  {
   "cell_type": "code",
   "execution_count": 0,
   "metadata": {
    "application/vnd.databricks.v1+cell": {
     "cellMetadata": {
      "byteLimit": 2048000,
      "implicitDf": true,
      "rowLimit": 10000
     },
     "inputWidgets": {},
     "nuid": "1344ad40-9761-497e-869a-0bcded916de2",
     "showTitle": true,
     "tableResultSettingsMap": {},
     "title": "Test describe"
    }
   },
   "outputs": [],
   "source": [
    "%sql\n",
    "describe todos.tasks;"
   ]
  },
  {
   "cell_type": "markdown",
   "metadata": {
    "application/vnd.databricks.v1+cell": {
     "cellMetadata": {},
     "inputWidgets": {},
     "nuid": "06d9f06a-c6fc-4408-8071-a4d72cd18208",
     "showTitle": false,
     "tableResultSettingsMap": {},
     "title": ""
    }
   },
   "source": [
    "##FSCK Repair table\n",
    "![](/Workspace/Users/stig0509@hotmail.com/Databricks/Certification Playground/Import Pictures/FSCK Repair.png)"
   ]
  },
  {
   "cell_type": "code",
   "execution_count": 0,
   "metadata": {
    "application/vnd.databricks.v1+cell": {
     "cellMetadata": {},
     "inputWidgets": {},
     "nuid": "a1feb6a1-5d10-48cd-996a-9790d016ddbc",
     "showTitle": true,
     "tableResultSettingsMap": {},
     "title": "FSCK REPAIR TABLE"
    }
   },
   "outputs": [],
   "source": []
  },
  {
   "cell_type": "markdown",
   "metadata": {
    "application/vnd.databricks.v1+cell": {
     "cellMetadata": {},
     "inputWidgets": {},
     "nuid": "a4017391-7f4f-4872-841c-6ff48ecbc70c",
     "showTitle": false,
     "tableResultSettingsMap": {},
     "title": ""
    }
   },
   "source": [
    "##Generate\n",
    "![](/Workspace/Users/stig0509@hotmail.com/Databricks/Certification Playground/Import Pictures/Generate.png)"
   ]
  },
  {
   "cell_type": "code",
   "execution_count": 0,
   "metadata": {
    "application/vnd.databricks.v1+cell": {
     "cellMetadata": {},
     "inputWidgets": {},
     "nuid": "edefe665-e6b5-40de-a3ec-07f1df61482d",
     "showTitle": true,
     "tableResultSettingsMap": {},
     "title": "GENERATE"
    }
   },
   "outputs": [],
   "source": []
  },
  {
   "cell_type": "markdown",
   "metadata": {
    "application/vnd.databricks.v1+cell": {
     "cellMetadata": {},
     "inputWidgets": {},
     "nuid": "63c0925d-5f2d-41a2-b550-f6e541d6902c",
     "showTitle": false,
     "tableResultSettingsMap": {},
     "title": ""
    }
   },
   "source": [
    "##Optimize\n",
    "\n",
    "![](/Workspace/Users/stig0509@hotmail.com/Databricks/Certification Playground/Import Pictures/Optimize.png)"
   ]
  },
  {
   "cell_type": "code",
   "execution_count": 0,
   "metadata": {
    "application/vnd.databricks.v1+cell": {
     "cellMetadata": {
      "byteLimit": 2048000,
      "implicitDf": true,
      "rowLimit": 10000
     },
     "inputWidgets": {},
     "nuid": "fcd83eb2-21b0-4897-ab03-3da042c30d0a",
     "showTitle": true,
     "tableResultSettingsMap": {},
     "title": "Setup temp table"
    }
   },
   "outputs": [],
   "source": [
    "%sql\n",
    "DROP TABLE IF EXISTS todos.temp_target_tasks;\n",
    "CREATE TABLE todos.temp_target_tasks\n",
    "USING DELTA\n",
    "PARTITIONED BY (task_id)\n",
    "AS SELECT * FROM todos.tasks;"
   ]
  },
  {
   "cell_type": "code",
   "execution_count": 0,
   "metadata": {
    "application/vnd.databricks.v1+cell": {
     "cellMetadata": {
      "byteLimit": 2048000,
      "implicitDf": true,
      "rowLimit": 10000
     },
     "inputWidgets": {},
     "nuid": "6f509fc6-faaf-44f7-a80e-16abb83b4b2d",
     "showTitle": true,
     "tableResultSettingsMap": {},
     "title": "Performance before"
    }
   },
   "outputs": [],
   "source": [
    "%sql\n",
    "\n",
    "SELECT * FROM todos.temp_target_tasks"
   ]
  },
  {
   "cell_type": "code",
   "execution_count": 0,
   "metadata": {
    "application/vnd.databricks.v1+cell": {
     "cellMetadata": {
      "byteLimit": 2048000,
      "implicitDf": true,
      "rowLimit": 10000
     },
     "inputWidgets": {},
     "nuid": "b27cf770-54ef-45d6-9551-673b11c7294a",
     "showTitle": true,
     "tableResultSettingsMap": {},
     "title": "OPTIMIZE"
    }
   },
   "outputs": [],
   "source": [
    "%sql\n",
    "use catalog playground;\n",
    "\n",
    "OPTIMIZE todos.temp_target_tasks;\n",
    "OPTIMIZE todos.temp_target_tasks WHERE task_id = 1; --It is required that the column you wish to optimize on is a partitioned column\n"
   ]
  },
  {
   "cell_type": "code",
   "execution_count": 0,
   "metadata": {
    "application/vnd.databricks.v1+cell": {
     "cellMetadata": {
      "byteLimit": 2048000,
      "implicitDf": true,
      "rowLimit": 10000
     },
     "inputWidgets": {},
     "nuid": "a97dda45-1651-4c40-811a-ddaec7daa422",
     "showTitle": true,
     "tableResultSettingsMap": {},
     "title": "Performance After"
    }
   },
   "outputs": [],
   "source": [
    "%sql\n",
    "select * from todos.temp_target_tasks where task_id = 1"
   ]
  },
  {
   "cell_type": "code",
   "execution_count": 0,
   "metadata": {
    "application/vnd.databricks.v1+cell": {
     "cellMetadata": {
      "byteLimit": 2048000,
      "implicitDf": true,
      "rowLimit": 10000
     },
     "inputWidgets": {},
     "nuid": "1782ebbf-17f9-4e54-ba38-8d6ab667cafc",
     "showTitle": true,
     "tableResultSettingsMap": {
      "0": {
       "dataGridStateBlob": "{\"version\":1,\"tableState\":{\"columnPinning\":{\"left\":[\"#row_number#\"],\"right\":[]},\"columnSizing\":{\"col_name\":194},\"columnVisibility\":{}},\"settings\":{\"columns\":{}},\"syncTimestamp\":1761820166313}",
       "filterBlob": null,
       "queryPlanFiltersBlob": null,
       "tableResultIndex": 0
      }
     },
     "title": "See partition information"
    }
   },
   "outputs": [],
   "source": [
    "%sql\n",
    "describe todos.temp_target_tasks;"
   ]
  },
  {
   "cell_type": "markdown",
   "metadata": {
    "application/vnd.databricks.v1+cell": {
     "cellMetadata": {},
     "inputWidgets": {},
     "nuid": "d26d8d76-d46d-4751-9839-518e48eb6ba4",
     "showTitle": false,
     "tableResultSettingsMap": {},
     "title": ""
    }
   },
   "source": [
    "##Reorg Table\n",
    "![](/Workspace/Users/stig0509@hotmail.com/Databricks/Certification Playground/Import Pictures/Reorg Table.png)"
   ]
  },
  {
   "cell_type": "code",
   "execution_count": 0,
   "metadata": {
    "application/vnd.databricks.v1+cell": {
     "cellMetadata": {},
     "inputWidgets": {},
     "nuid": "e9f59ed9-170c-4b93-8ebe-8cbc0aa653e4",
     "showTitle": true,
     "tableResultSettingsMap": {},
     "title": "REORG TABLE"
    }
   },
   "outputs": [],
   "source": []
  },
  {
   "cell_type": "markdown",
   "metadata": {
    "application/vnd.databricks.v1+cell": {
     "cellMetadata": {},
     "inputWidgets": {},
     "nuid": "ba5544d4-9ce6-4306-a2db-792e0c9472f8",
     "showTitle": true,
     "tableResultSettingsMap": {},
     "title": "RESTORE"
    }
   },
   "source": [
    "##RESTORE\n",
    "see timetravel example\n",
    "![](/Workspace/Users/stig0509@hotmail.com/Databricks/Certification Playground/Import Pictures/Restore.png)\n",
    "\n"
   ]
  },
  {
   "cell_type": "markdown",
   "metadata": {
    "application/vnd.databricks.v1+cell": {
     "cellMetadata": {},
     "inputWidgets": {},
     "nuid": "ecf15660-4a72-4074-b987-b357330a4070",
     "showTitle": false,
     "tableResultSettingsMap": {},
     "title": ""
    }
   },
   "source": [
    "##Vacuum\n",
    "![](/Workspace/Users/stig0509@hotmail.com/Databricks/Certification Playground/Import Pictures/Vacuum.png)"
   ]
  },
  {
   "cell_type": "code",
   "execution_count": 0,
   "metadata": {
    "application/vnd.databricks.v1+cell": {
     "cellMetadata": {},
     "inputWidgets": {},
     "nuid": "f0012b3b-2f73-42f0-82b0-3dd459951903",
     "showTitle": true,
     "tableResultSettingsMap": {},
     "title": "VACUUM"
    }
   },
   "outputs": [],
   "source": []
  }
 ],
 "metadata": {
  "application/vnd.databricks.v1+notebook": {
   "computePreferences": null,
   "dashboards": [],
   "environmentMetadata": {
    "base_environment": "",
    "environment_version": "4"
   },
   "inputWidgetPreferences": null,
   "language": "python",
   "notebookMetadata": {
    "mostRecentlyExecutedCommandWithImplicitDF": {
     "commandId": 4897695031724816,
     "dataframes": [
      "_sqldf"
     ]
    },
    "pythonIndentUnit": 4
   },
   "notebookName": "Deltalake commands",
   "widgets": {}
  },
  "language_info": {
   "name": "python"
  }
 },
 "nbformat": 4,
 "nbformat_minor": 0
}
