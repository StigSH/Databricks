{
 "cells": [
  {
   "cell_type": "code",
   "execution_count": 0,
   "metadata": {
    "application/vnd.databricks.v1+cell": {
     "cellMetadata": {
      "byteLimit": 10485760,
      "rowLimit": 1000
     },
     "inputWidgets": {},
     "nuid": "a395d590-ca65-4eec-ad92-97f4833ba7f0",
     "showTitle": false,
     "tableResultSettingsMap": {},
     "title": ""
    }
   },
   "outputs": [],
   "source": [
    "INSERT INTO playground.todos.task_status (status_id, task_id, change_time) VALUES (1, 1, '2025-10-20 09:00:00'); -- Task 1: Created\n",
    "INSERT INTO playground.todos.task_status (status_id, task_id, change_time) VALUES (2, 1, '2025-10-21 10:15:00'); -- Task 1: In Progress\n",
    "INSERT INTO playground.todos.task_status (status_id, task_id, change_time) VALUES (3, 1, '2025-10-22 16:30:00'); -- Task 1: Completed\n",
    "INSERT INTO playground.todos.task_status (status_id, task_id, change_time) VALUES (1, 2, '2025-10-20 09:05:00'); -- Task 2: Created\n",
    "INSERT INTO playground.todos.task_status (status_id, task_id, change_time) VALUES (2, 2, '2025-10-21 11:00:00'); -- Task 2: In Progress\n",
    "INSERT INTO playground.todos.task_status (status_id, task_id, change_time) VALUES (4, 2, '2025-10-23 14:00:00'); -- Task 2: Blocked\n",
    "INSERT INTO playground.todos.task_status (status_id, task_id, change_time) VALUES (1, 3, '2025-10-20 09:10:00'); -- Task 3: Created\n",
    "INSERT INTO playground.todos.task_status (status_id, task_id, change_time) VALUES (2, 3, '2025-10-21 13:45:00'); -- Task 3: In Progress\n",
    "INSERT INTO playground.todos.task_status (status_id, task_id, change_time) VALUES (1, 4, '2025-10-20 09:20:00'); -- Task 4: Created\n",
    "INSERT INTO playground.todos.task_status (status_id, task_id, change_time) VALUES (2, 5, '2025-10-21 15:00:00'); -- Task 5: In Progress\n",
    "\n",
    "\n",
    "describe history playground.todos.task_status;\n",
    "\n",
    "\n",
    "\n",
    "\n",
    "RESTORE TABLE playground.todos.task_status TO VERSION AS OF 3;\n",
    "\n",
    "DECLARE _version int;\n",
    "SET VAR _version = 3;\n",
    "\n",
    "\n",
    "SELECT * FROM todos.task_status VERSION AS OF 10 ts\n",
    "inner join todos.tasks t\n",
    "on ts.task_id = t.task_id\n",
    "inner join todos.status s\n",
    "on ts.status_id = s.status_id\n",
    "\n"
   ]
  }
 ],
 "metadata": {
  "application/vnd.databricks.v1+notebook": {
   "computePreferences": null,
   "dashboards": [],
   "environmentMetadata": null,
   "inputWidgetPreferences": null,
   "language": "sql",
   "notebookMetadata": {
    "pythonIndentUnit": 4,
    "sqlQueryOptions": {
     "applyAutoLimit": true,
     "catalog": "playground",
     "schema": "todos"
    }
   },
   "notebookName": "Timetravel example.dbquery.ipynb",
   "widgets": {}
  },
  "language_info": {
   "name": "sql"
  }
 },
 "nbformat": 4,
 "nbformat_minor": 0
}
