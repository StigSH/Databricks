{
 "cells": [
  {
   "cell_type": "code",
   "execution_count": 0,
   "metadata": {
    "application/vnd.databricks.v1+cell": {
     "cellMetadata": {
      "byteLimit": 2048000,
      "implicitDf": true,
      "rowLimit": 10000
     },
     "inputWidgets": {},
     "nuid": "a3b93787-aa3d-4f07-a0f7-e11be69496e8",
     "showTitle": false,
     "tableResultSettingsMap": {},
     "title": ""
    }
   },
   "outputs": [],
   "source": [
    "%sql\n",
    "CREATE CATALOG IF NOT EXISTS tfl;\n",
    "CREATE SCHEMA  IF NOT EXISTS tfl.config;\n",
    "\n",
    "CREATE OR REPLACE TABLE tfl.config.api_credentials (\n",
    "  api_name STRING,\n",
    "  app_id   STRING,\n",
    "  app_key  STRING,\n",
    "  base_url STRING\n",
    ") COMMENT 'Stores non-sensitive API credentials for public data sources';"
   ]
  },
  {
   "cell_type": "code",
   "execution_count": 0,
   "metadata": {
    "application/vnd.databricks.v1+cell": {
     "cellMetadata": {
      "byteLimit": 2048000,
      "implicitDf": true,
      "rowLimit": 10000
     },
     "inputWidgets": {},
     "nuid": "a45d6e94-cbd8-43b3-9c5c-94493037288f",
     "showTitle": false,
     "tableResultSettingsMap": {},
     "title": ""
    }
   },
   "outputs": [],
   "source": [
    "%sql\n",
    "INSERT INTO tfl.config.api_credentials\n",
    "VALUES (\n",
    "  'tfl_unified_api',\n",
    "  'DatabricksDemo',\n",
    "  '4a25b9cef5e04202870edfda27ad0705',\n",
    "  'https://api.tfl.gov.uk'\n",
    ");"
   ]
  },
  {
   "cell_type": "code",
   "execution_count": 0,
   "metadata": {
    "application/vnd.databricks.v1+cell": {
     "cellMetadata": {
      "byteLimit": 2048000,
      "implicitDf": true,
      "rowLimit": 10000
     },
     "inputWidgets": {},
     "nuid": "7ca494a2-9796-4862-b795-59c8346817b6",
     "showTitle": false,
     "tableResultSettingsMap": {},
     "title": ""
    }
   },
   "outputs": [],
   "source": [
    "%sql\n",
    "CREATE CATALOG IF NOT EXISTS tfl;\n",
    "CREATE SCHEMA  IF NOT EXISTS tfl.bronze;\n",
    "CREATE SCHEMA  IF NOT EXISTS tfl.silver;\n",
    "CREATE SCHEMA  IF NOT EXISTS tfl.gold;\n",
    "\n"
   ]
  },
  {
   "cell_type": "code",
   "execution_count": 0,
   "metadata": {
    "application/vnd.databricks.v1+cell": {
     "cellMetadata": {
      "byteLimit": 2048000,
      "implicitDf": true,
      "rowLimit": 10000
     },
     "inputWidgets": {},
     "nuid": "da6c1e71-4894-4f5f-9df2-c030cb9e87cb",
     "showTitle": false,
     "tableResultSettingsMap": {},
     "title": ""
    }
   },
   "outputs": [],
   "source": [
    "%sql\n",
    "SHOW CATALOGS;"
   ]
  },
  {
   "cell_type": "code",
   "execution_count": 0,
   "metadata": {
    "application/vnd.databricks.v1+cell": {
     "cellMetadata": {
      "byteLimit": 2048000,
      "implicitDf": true,
      "rowLimit": 10000
     },
     "inputWidgets": {},
     "nuid": "f3b215b8-c042-4e66-97bc-1026ea255472",
     "showTitle": false,
     "tableResultSettingsMap": {},
     "title": ""
    }
   },
   "outputs": [],
   "source": [
    "%sql\n",
    "SHOW SCHEMAS IN tfl;"
   ]
  },
  {
   "cell_type": "code",
   "execution_count": 0,
   "metadata": {
    "application/vnd.databricks.v1+cell": {
     "cellMetadata": {
      "byteLimit": 2048000,
      "rowLimit": 10000
     },
     "inputWidgets": {},
     "nuid": "d7e0228c-8f55-4095-b545-f08376c18290",
     "showTitle": false,
     "tableResultSettingsMap": {},
     "title": ""
    }
   },
   "outputs": [],
   "source": [
    "from pyspark.sql.functions import col\n",
    "\n",
    "creds = (spark.table(\"tfl.config.api_credentials\")\n",
    "             .filter(col(\"api_name\") == \"tfl_unified_api\")\n",
    "             .collect()[0])\n",
    "\n",
    "APP_ID  = creds[\"app_id\"]\n",
    "APP_KEY = creds[\"app_key\"]\n",
    "BASE_URL = creds[\"base_url\"]\n",
    "\n",
    "print(f\"Loaded TfL creds: {APP_ID=}  {BASE_URL=}  {APP_KEY=}\")"
   ]
  },
  {
   "cell_type": "code",
   "execution_count": 0,
   "metadata": {
    "application/vnd.databricks.v1+cell": {
     "cellMetadata": {
      "byteLimit": 2048000,
      "rowLimit": 10000
     },
     "inputWidgets": {},
     "nuid": "2c4271d0-530b-4c04-ba20-25d47ad90bfe",
     "showTitle": false,
     "tableResultSettingsMap": {},
     "title": ""
    }
   },
   "outputs": [],
   "source": [
    "# %pip install requests   # if needed\n",
    "\n",
    "import requests, json, datetime\n",
    "from pyspark.sql import Row\n",
    "\n",
    "# TfL Tube line status (no key needed for a quick test; add ?app_key=... if you registered)\n",
    "url = \"https://api.tfl.gov.uk/StopPoint/Meta/Modes\"\n",
    "data = requests.get(url, timeout=20).json()\n",
    "\n",
    "ingest_ts = datetime.datetime.utcnow().isoformat()\n",
    "rows = [Row(ingest_time=ingest_ts, json_text=json.dumps(obj)) for obj in data]\n",
    "\n",
    "(\n",
    "  spark.createDataFrame(rows)\n",
    "  .write.mode(\"overwrite\")\n",
    "  .format(\"delta\")\n",
    "  .saveAsTable(\"tfl.bronze.modes\")   # <-- UC table the Warehouse can see\n",
    ")\n"
   ]
  },
  {
   "cell_type": "code",
   "execution_count": 0,
   "metadata": {
    "application/vnd.databricks.v1+cell": {
     "cellMetadata": {
      "byteLimit": 2048000,
      "implicitDf": true,
      "rowLimit": 10000
     },
     "inputWidgets": {},
     "nuid": "08d3ae4e-5668-40d6-a2ba-33752a684cb4",
     "showTitle": false,
     "tableResultSettingsMap": {},
     "title": ""
    }
   },
   "outputs": [],
   "source": [
    "%sql\n",
    "SELECT * FROM tfl.bronze.modes\n"
   ]
  },
  {
   "cell_type": "code",
   "execution_count": 0,
   "metadata": {
    "application/vnd.databricks.v1+cell": {
     "cellMetadata": {
      "byteLimit": 2048000,
      "implicitDf": true,
      "rowLimit": 10000
     },
     "inputWidgets": {},
     "nuid": "8ff7ef99-9205-4779-9ad4-53ef0b54c077",
     "showTitle": false,
     "tableResultSettingsMap": {},
     "title": ""
    }
   },
   "outputs": [],
   "source": [
    "%sql\n",
    "SELECT * FROM tfl.bronze.line_status_raw"
   ]
  }
 ],
 "metadata": {
  "application/vnd.databricks.v1+notebook": {
   "computePreferences": null,
   "dashboards": [],
   "environmentMetadata": {
    "base_environment": "",
    "environment_version": "4"
   },
   "inputWidgetPreferences": null,
   "language": "python",
   "notebookMetadata": {
    "mostRecentlyExecutedCommandWithImplicitDF": {
     "commandId": 8642350297614795,
     "dataframes": [
      "_sqldf"
     ]
    },
    "pythonIndentUnit": 4
   },
   "notebookName": "Config and test",
   "widgets": {}
  },
  "language_info": {
   "name": "python"
  }
 },
 "nbformat": 4,
 "nbformat_minor": 0
}
