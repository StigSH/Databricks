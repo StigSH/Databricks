{
 "cells": [
  {
   "cell_type": "code",
   "execution_count": 0,
   "metadata": {
    "application/vnd.databricks.v1+cell": {
     "cellMetadata": {
      "byteLimit": 2048000,
      "rowLimit": 10000
     },
     "inputWidgets": {},
     "nuid": "e218f661-cdf1-4a81-b341-a537a2998426",
     "showTitle": false,
     "tableResultSettingsMap": {},
     "title": ""
    }
   },
   "outputs": [],
   "source": [
    "from pyspark.sql.functions import col\n",
    "\n",
    "creds = (spark.table(\"tfl.config.api_credentials\")\n",
    "             .filter(col(\"api_name\") == \"tfl_unified_api\")\n",
    "             .collect()[0])\n",
    "\n",
    "APP_ID  = creds[\"app_id\"]\n",
    "APP_KEY = creds[\"app_key\"]\n",
    "BASE_URL = creds[\"base_url\"]\n",
    "\n"
   ]
  },
  {
   "cell_type": "code",
   "execution_count": 0,
   "metadata": {
    "application/vnd.databricks.v1+cell": {
     "cellMetadata": {
      "byteLimit": 2048000,
      "rowLimit": 10000
     },
     "inputWidgets": {},
     "nuid": "135080f7-8c08-4e02-9359-4cd5c8e1b055",
     "showTitle": false,
     "tableResultSettingsMap": {},
     "title": ""
    }
   },
   "outputs": [],
   "source": [
    "print(f\"Loaded TfL creds: {APP_ID=}  {BASE_URL=}  {APP_KEY=}\")"
   ]
  },
  {
   "cell_type": "code",
   "execution_count": 0,
   "metadata": {
    "application/vnd.databricks.v1+cell": {
     "cellMetadata": {},
     "inputWidgets": {},
     "nuid": "2f6d8825-02a1-48b1-a489-62d162567eaa",
     "showTitle": false,
     "tableResultSettingsMap": {},
     "title": ""
    }
   },
   "outputs": [],
   "source": [
    "# %pip install requests   # if needed\n",
    "\n",
    "import requests, json, datetime\n",
    "from pyspark.sql import Row\n",
    "\n",
    "# TfL Tube line status (no key needed for a quick test; add ?app_key=... if you registered)\n",
    "url = \"https://api.tfl.gov.uk/StopPoint/Meta/Modes\"\n",
    "data = requests.get(url, timeout=20).json()\n",
    "\n",
    "ingest_ts = datetime.datetime.utcnow().isoformat()\n",
    "rows = [Row(ingest_time=ingest_ts, json_text=json.dumps(obj)) for obj in data]\n",
    "\n",
    "(\n",
    "  spark.createDataFrame(rows)\n",
    "  .write.mode(\"overwrite\")\n",
    "  .format(\"delta\")\n",
    "  .saveAsTable(\"tfl.bronze.modes\")   # <-- UC table the Warehouse can see\n",
    ")\n"
   ]
  }
 ],
 "metadata": {
  "application/vnd.databricks.v1+notebook": {
   "computePreferences": null,
   "dashboards": [],
   "environmentMetadata": {
    "base_environment": "",
    "environment_version": "4"
   },
   "inputWidgetPreferences": null,
   "language": "python",
   "notebookMetadata": {
    "mostRecentlyExecutedCommandWithImplicitDF": {
     "commandId": 8954719587672624,
     "dataframes": [
      "_sqldf"
     ]
    },
    "pythonIndentUnit": 4
   },
   "notebookName": "Semi Static Tables",
   "widgets": {}
  },
  "language_info": {
   "name": "python"
  }
 },
 "nbformat": 4,
 "nbformat_minor": 0
}
